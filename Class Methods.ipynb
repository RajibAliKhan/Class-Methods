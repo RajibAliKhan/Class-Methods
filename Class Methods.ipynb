{
 "cells": [
  {
   "cell_type": "code",
   "execution_count": 4,
   "id": "56351835-407a-4b81-883f-7ee60f29b090",
   "metadata": {},
   "outputs": [],
   "source": [
    "class pwskills :\n",
    "    def __init__(self, name, email) :\n",
    "        self.name = name\n",
    "        self.email = email\n",
    "    \n",
    "    def student_details(self) :\n",
    "        print('My name is', self.name, 'and email is', self.email)"
   ]
  },
  {
   "cell_type": "code",
   "execution_count": 5,
   "id": "8740c398-3766-49de-bbbf-cc6860613bf7",
   "metadata": {},
   "outputs": [
    {
     "name": "stdout",
     "output_type": "stream",
     "text": [
      "My name is rajib and email is rajib@gmail.com\n"
     ]
    }
   ],
   "source": [
    "pw = pwskills('rajib', 'rajib@gmail.com')\n",
    "pw.student_details()"
   ]
  },
  {
   "cell_type": "code",
   "execution_count": 6,
   "id": "32bd0b80-2dc7-4e98-82d9-0a410ef18def",
   "metadata": {},
   "outputs": [
    {
     "data": {
      "text/plain": [
       "'rajib@gmail.com'"
      ]
     },
     "execution_count": 6,
     "metadata": {},
     "output_type": "execute_result"
    }
   ],
   "source": [
    "pw.email"
   ]
  },
  {
   "cell_type": "code",
   "execution_count": 7,
   "id": "c7cb1a09-bbe6-4e86-890f-039d3de7a37c",
   "metadata": {},
   "outputs": [
    {
     "data": {
      "text/plain": [
       "'rajib'"
      ]
     },
     "execution_count": 7,
     "metadata": {},
     "output_type": "execute_result"
    }
   ],
   "source": [
    "pw.name"
   ]
  },
  {
   "cell_type": "code",
   "execution_count": null,
   "id": "cbac0d3b-0ae4-48c0-9cf7-161b69e21a0c",
   "metadata": {},
   "outputs": [],
   "source": [
    "# classmethod is the process where the __init__ has to be overlorded.\n",
    "# because there is no direct way for overloading in Python."
   ]
  },
  {
   "cell_type": "code",
   "execution_count": 13,
   "id": "08226774-8d10-409e-a369-a7f16afe7671",
   "metadata": {},
   "outputs": [],
   "source": [
    "class pwskills1 :\n",
    "    def __init__(self, name, email) :\n",
    "        self.name = name\n",
    "        self.email = email\n",
    "    \n",
    "    @classmethod  # here instead of calling __init__, can pass data by using @classmethod.\n",
    "    def details(cls, name, email) :\n",
    "        return cls(name, email)\n",
    "    \n",
    "    def student_details(self) :\n",
    "        print('My name is', self.name, 'and email is', self.email)"
   ]
  },
  {
   "cell_type": "code",
   "execution_count": 16,
   "id": "97b62ce8-1774-4438-9261-87772d93c8ff",
   "metadata": {},
   "outputs": [
    {
     "data": {
      "text/plain": [
       "'Rajib Ali Khan'"
      ]
     },
     "execution_count": 16,
     "metadata": {},
     "output_type": "execute_result"
    }
   ],
   "source": [
    "pw1 = pwskills1.details('Rajib Ali Khan', 'rajib@gmail.com')\n",
    "pw1.name"
   ]
  },
  {
   "cell_type": "code",
   "execution_count": 18,
   "id": "81171638-3a8b-4c91-a058-1ec8eb2fb2b8",
   "metadata": {},
   "outputs": [
    {
     "data": {
      "text/plain": [
       "'rajib@gmail.com'"
      ]
     },
     "execution_count": 18,
     "metadata": {},
     "output_type": "execute_result"
    }
   ],
   "source": [
    "pw1.email"
   ]
  },
  {
   "cell_type": "code",
   "execution_count": 19,
   "id": "9554c0e5-7eec-47aa-8afb-20028a6bf2af",
   "metadata": {},
   "outputs": [
    {
     "name": "stdout",
     "output_type": "stream",
     "text": [
      "My name is Rajib Ali Khan and email is rajib@gmail.com\n"
     ]
    }
   ],
   "source": [
    "pw1.student_details()"
   ]
  },
  {
   "cell_type": "code",
   "execution_count": 32,
   "id": "def046a0-0ec3-46ab-9b8a-11fb61e00f15",
   "metadata": {},
   "outputs": [],
   "source": [
    "class pwskills2 :\n",
    "    \n",
    "    mobile_num = 987654\n",
    "    \n",
    "    def __init__(self, name, email) :\n",
    "        self.name = name\n",
    "        self.email = email\n",
    "    \n",
    "    @classmethod\n",
    "    def change_num(cls, mobile) :\n",
    "        pwskills2.mobile_num = mobile\n",
    "        \n",
    "    @classmethod\n",
    "    def details(cls, name, email) :\n",
    "        return cls(name, email)\n",
    "    \n",
    "    def student_details(self) :\n",
    "        print('My name is', self.name, 'and email is', self.email)"
   ]
  },
  {
   "cell_type": "code",
   "execution_count": 31,
   "id": "a90d3e60-20b8-4d94-a634-8da3f88ed671",
   "metadata": {},
   "outputs": [
    {
     "data": {
      "text/plain": [
       "987654"
      ]
     },
     "execution_count": 31,
     "metadata": {},
     "output_type": "execute_result"
    }
   ],
   "source": [
    "pwskills2.mobile_num"
   ]
  },
  {
   "cell_type": "code",
   "execution_count": 34,
   "id": "1aaae5bd-087f-4b3f-9c87-df1a90783628",
   "metadata": {},
   "outputs": [
    {
     "data": {
      "text/plain": [
       "789456"
      ]
     },
     "execution_count": 34,
     "metadata": {},
     "output_type": "execute_result"
    }
   ],
   "source": [
    "pwskills2.change_num(789456)\n",
    "pwskills2.mobile_num"
   ]
  },
  {
   "cell_type": "code",
   "execution_count": 35,
   "id": "02b1f7f5-cf2e-45bb-95f6-d8ecfbd4dd5f",
   "metadata": {},
   "outputs": [],
   "source": [
    "class pwskills2 :\n",
    "    \n",
    "    mobile_num = 987654\n",
    "    \n",
    "    def __init__(self, name, email) :\n",
    "        self.name = name\n",
    "        self.email = email\n",
    "    \n",
    "    @classmethod\n",
    "    def change_num(cls, mobile) :\n",
    "        pwskills2.mobile_num = mobile\n",
    "        \n",
    "    @classmethod\n",
    "    def details(cls, name, email) :\n",
    "        return cls(name, email)\n",
    "    \n",
    "    def student_details(self) :\n",
    "        print('My name is', self.name, 'and email is', self.email, pwskills2.mobile_num)"
   ]
  },
  {
   "cell_type": "code",
   "execution_count": 36,
   "id": "4e7f683d-40e4-477f-a9ca-a3bb06a1a2e8",
   "metadata": {},
   "outputs": [
    {
     "name": "stdout",
     "output_type": "stream",
     "text": [
      "My name is rajib ali and email is khan@gmail.com 987654\n"
     ]
    }
   ],
   "source": [
    "pw = pwskills2('rajib ali', 'khan@gmail.com')\n",
    "pw.student_details()"
   ]
  },
  {
   "cell_type": "code",
   "execution_count": 37,
   "id": "1246661f-c189-48e4-93ce-c34e5ff8b190",
   "metadata": {},
   "outputs": [
    {
     "name": "stdout",
     "output_type": "stream",
     "text": [
      "My name is khan and email is khanrajib@gmail.com 987654\n"
     ]
    }
   ],
   "source": [
    "pw1 = pwskills2.details('khan','khanrajib@gmail.com')\n",
    "pw1.student_details()"
   ]
  },
  {
   "cell_type": "code",
   "execution_count": 39,
   "id": "cf04fcf3-89e6-463c-bdf2-3474fc3582ba",
   "metadata": {},
   "outputs": [],
   "source": [
    "class pwskills3 :\n",
    "    \n",
    "    mobile_num = 987654\n",
    "    \n",
    "    def __init__(self, name, email) :\n",
    "        self.name = name\n",
    "        self.email = email\n",
    "    \n",
    "    @classmethod\n",
    "    def change_num(cls, mobile) :\n",
    "        pwskills2.mobile_num = mobile\n",
    "        \n",
    "    @classmethod\n",
    "    def details(cls, name, email) :\n",
    "        return cls(name, email)\n",
    "    \n",
    "    def student_details(self) :\n",
    "        print('My name is', self.name, 'and email is', self.email, pwskills2.mobile_num)"
   ]
  },
  {
   "cell_type": "code",
   "execution_count": 40,
   "id": "23cae31b-2db3-460c-8529-136e4a68b2f3",
   "metadata": {},
   "outputs": [],
   "source": [
    "# here, course_details is as external function.\n",
    "# Now, I want course_details as a part of class.\n",
    "\n",
    "def course_details(cls, course_name) :\n",
    "    print('Course name is', course_name)\n",
    "    "
   ]
  },
  {
   "cell_type": "code",
   "execution_count": 43,
   "id": "f494fe12-a90f-48bc-912f-b63602e5e8de",
   "metadata": {},
   "outputs": [
    {
     "name": "stdout",
     "output_type": "stream",
     "text": [
      "Course name is Data Science Masters\n"
     ]
    }
   ],
   "source": [
    "pwskills3.course_details = classmethod(course_details)\n",
    "pwskills3.course_details('Data Science Masters')"
   ]
  },
  {
   "cell_type": "code",
   "execution_count": 44,
   "id": "085f42f2-5e0f-4939-9c7a-80544f417abb",
   "metadata": {},
   "outputs": [],
   "source": [
    "def mentor(cls, mentor_name) :\n",
    "    print('My mentor name is', mentor_name)"
   ]
  },
  {
   "cell_type": "code",
   "execution_count": 46,
   "id": "28e68f25-b3d5-4094-b59e-211dba7f864d",
   "metadata": {},
   "outputs": [
    {
     "name": "stdout",
     "output_type": "stream",
     "text": [
      "My mentor name is Sudh\n"
     ]
    }
   ],
   "source": [
    "pwskills3.mentor = classmethod(mentor)\n",
    "pwskills3.mentor('Sudh')"
   ]
  },
  {
   "cell_type": "code",
   "execution_count": 50,
   "id": "5e2afaa9-39e8-4668-a272-6c4db0cb8597",
   "metadata": {},
   "outputs": [],
   "source": [
    "def country_name(cls, country_name) :\n",
    "    print('My country name is', country_name)"
   ]
  },
  {
   "cell_type": "code",
   "execution_count": 51,
   "id": "7ce2ec44-cc56-4be6-90bf-5eb13e499dcb",
   "metadata": {},
   "outputs": [
    {
     "name": "stdout",
     "output_type": "stream",
     "text": [
      "My country name is India\n"
     ]
    }
   ],
   "source": [
    "pwskills3.country_name = classmethod(country_name)\n",
    "pwskills3.country_name('India')"
   ]
  },
  {
   "cell_type": "code",
   "execution_count": 52,
   "id": "fce49b3e-e0ff-41e0-a8ea-854d4cb8c6c8",
   "metadata": {},
   "outputs": [],
   "source": [
    "def state_name(cls, state_name) :\n",
    "    print('My state name is', state_name)"
   ]
  },
  {
   "cell_type": "code",
   "execution_count": 53,
   "id": "f2b12f7b-7560-4d10-949a-9c04b8ddb26c",
   "metadata": {},
   "outputs": [
    {
     "name": "stdout",
     "output_type": "stream",
     "text": [
      "My state name is West Bengal\n"
     ]
    }
   ],
   "source": [
    "pwskills3.state_name = classmethod(state_name)\n",
    "pwskills3.state_name('West Bengal')"
   ]
  },
  {
   "cell_type": "code",
   "execution_count": 55,
   "id": "90860ada-b743-4218-b602-33d6d3343a8c",
   "metadata": {},
   "outputs": [],
   "source": [
    "class pwskills4 :\n",
    "    \n",
    "    mobile_num = 987654\n",
    "    \n",
    "    def __init__(self, name, email) :\n",
    "        self.name = name\n",
    "        self.email = email\n",
    "    \n",
    "    @classmethod\n",
    "    def change_num(cls, mobile) :\n",
    "        pwskills2.mobile_num = mobile\n",
    "        \n",
    "    @classmethod\n",
    "    def details(cls, name, email) :\n",
    "        return cls(name, email)\n",
    "    \n",
    "    def student_details(self) :\n",
    "        print('My name is', self.name, 'and email is', self.email, pwskills2.mobile_num)"
   ]
  },
  {
   "cell_type": "code",
   "execution_count": 56,
   "id": "e4049918-e9e3-4f7d-a716-27a55130398c",
   "metadata": {},
   "outputs": [],
   "source": [
    "# Here, I want to delete one function(eg. change_num) :\n",
    "\n",
    "del pwskills4.change_num"
   ]
  },
  {
   "cell_type": "code",
   "execution_count": 57,
   "id": "c27105c9-1486-4394-967e-9099f6d3f554",
   "metadata": {},
   "outputs": [
    {
     "ename": "AttributeError",
     "evalue": "type object 'pwskills4' has no attribute 'change_num'",
     "output_type": "error",
     "traceback": [
      "\u001b[0;31m---------------------------------------------------------------------------\u001b[0m",
      "\u001b[0;31mAttributeError\u001b[0m                            Traceback (most recent call last)",
      "Cell \u001b[0;32mIn[57], line 1\u001b[0m\n\u001b[0;32m----> 1\u001b[0m \u001b[43mpwskills4\u001b[49m\u001b[38;5;241;43m.\u001b[39;49m\u001b[43mchange_num\u001b[49m(\u001b[38;5;241m789\u001b[39m)\n",
      "\u001b[0;31mAttributeError\u001b[0m: type object 'pwskills4' has no attribute 'change_num'"
     ]
    }
   ],
   "source": [
    "# here, change_num deleted.\n",
    "\n",
    "pwskills4.change_num(789)"
   ]
  },
  {
   "cell_type": "code",
   "execution_count": 59,
   "id": "12c5ccf8-35fb-47d6-8d87-34b5c65011dc",
   "metadata": {},
   "outputs": [],
   "source": [
    "# another way to delete :\n",
    "\n",
    "delattr(pwskills4, 'details')"
   ]
  },
  {
   "cell_type": "code",
   "execution_count": 60,
   "id": "ccc81f27-bf73-4ea0-bfa0-1e438ed9e0a0",
   "metadata": {},
   "outputs": [
    {
     "ename": "AttributeError",
     "evalue": "type object 'pwskills4' has no attribute 'details'",
     "output_type": "error",
     "traceback": [
      "\u001b[0;31m---------------------------------------------------------------------------\u001b[0m",
      "\u001b[0;31mAttributeError\u001b[0m                            Traceback (most recent call last)",
      "Cell \u001b[0;32mIn[60], line 1\u001b[0m\n\u001b[0;32m----> 1\u001b[0m \u001b[43mpwskills4\u001b[49m\u001b[38;5;241;43m.\u001b[39;49m\u001b[43mdetails\u001b[49m\n",
      "\u001b[0;31mAttributeError\u001b[0m: type object 'pwskills4' has no attribute 'details'"
     ]
    }
   ],
   "source": [
    "pwskills4.details"
   ]
  },
  {
   "cell_type": "code",
   "execution_count": 62,
   "id": "23c96806-d557-4d0f-8b97-2909112620c9",
   "metadata": {},
   "outputs": [
    {
     "ename": "AttributeError",
     "evalue": "student_details",
     "output_type": "error",
     "traceback": [
      "\u001b[0;31m---------------------------------------------------------------------------\u001b[0m",
      "\u001b[0;31mAttributeError\u001b[0m                            Traceback (most recent call last)",
      "Cell \u001b[0;32mIn[62], line 1\u001b[0m\n\u001b[0;32m----> 1\u001b[0m \u001b[38;5;28;43mdelattr\u001b[39;49m\u001b[43m(\u001b[49m\u001b[43mpwskills4\u001b[49m\u001b[43m,\u001b[49m\u001b[43m \u001b[49m\u001b[38;5;124;43m'\u001b[39;49m\u001b[38;5;124;43mstudent_details\u001b[39;49m\u001b[38;5;124;43m'\u001b[39;49m\u001b[43m)\u001b[49m\n\u001b[1;32m      2\u001b[0m pwskills4\u001b[38;5;241m.\u001b[39mstudent_details\n",
      "\u001b[0;31mAttributeError\u001b[0m: student_details"
     ]
    }
   ],
   "source": [
    "delattr(pwskills4, 'student_details')\n",
    "pwskills4.student_details"
   ]
  },
  {
   "cell_type": "code",
   "execution_count": 63,
   "id": "16e197ab-c8a4-44e5-9b63-9aa76978d14a",
   "metadata": {},
   "outputs": [
    {
     "ename": "AttributeError",
     "evalue": "type object 'pwskills4' has no attribute 'mobile_num'",
     "output_type": "error",
     "traceback": [
      "\u001b[0;31m---------------------------------------------------------------------------\u001b[0m",
      "\u001b[0;31mAttributeError\u001b[0m                            Traceback (most recent call last)",
      "Cell \u001b[0;32mIn[63], line 2\u001b[0m\n\u001b[1;32m      1\u001b[0m \u001b[38;5;28mdelattr\u001b[39m(pwskills4, \u001b[38;5;124m'\u001b[39m\u001b[38;5;124mmobile_num\u001b[39m\u001b[38;5;124m'\u001b[39m)\n\u001b[0;32m----> 2\u001b[0m \u001b[43mpwskills4\u001b[49m\u001b[38;5;241;43m.\u001b[39;49m\u001b[43mmobile_num\u001b[49m\n",
      "\u001b[0;31mAttributeError\u001b[0m: type object 'pwskills4' has no attribute 'mobile_num'"
     ]
    }
   ],
   "source": [
    "delattr(pwskills4, 'mobile_num')\n",
    "pwskills4.mobile_num"
   ]
  },
  {
   "cell_type": "code",
   "execution_count": null,
   "id": "d48fe1da-0c1c-4e80-86c5-06de2782ebf4",
   "metadata": {},
   "outputs": [],
   "source": []
  }
 ],
 "metadata": {
  "kernelspec": {
   "display_name": "Python 3 (ipykernel)",
   "language": "python",
   "name": "python3"
  },
  "language_info": {
   "codemirror_mode": {
    "name": "ipython",
    "version": 3
   },
   "file_extension": ".py",
   "mimetype": "text/x-python",
   "name": "python",
   "nbconvert_exporter": "python",
   "pygments_lexer": "ipython3",
   "version": "3.10.8"
  }
 },
 "nbformat": 4,
 "nbformat_minor": 5
}
